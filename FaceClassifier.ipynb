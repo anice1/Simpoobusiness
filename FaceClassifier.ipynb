{
  "nbformat": 4,
  "nbformat_minor": 0,
  "metadata": {
    "colab": {
      "name": "Transfer Learning.ipynb",
      "provenance": [],
      "mount_file_id": "1p8gKZAMWknU1_qDIZVXJpFHzm4_Ztf6S",
      "authorship_tag": "ABX9TyNfzuzQIHwh/lszabcioYnI",
      "include_colab_link": true
    },
    "kernelspec": {
      "name": "python3",
      "display_name": "Python 3"
    },
    "language_info": {
      "name": "python"
    },
    "accelerator": "GPU"
  },
  "cells": [
    {
      "cell_type": "markdown",
      "metadata": {
        "id": "view-in-github",
        "colab_type": "text"
      },
      "source": [
        "<a href=\"https://colab.research.google.com/github/anochima/Simpoobusiness/blob/master/FaceClassifier.ipynb\" target=\"_parent\"><img src=\"https://colab.research.google.com/assets/colab-badge.svg\" alt=\"Open In Colab\"/></a>"
      ]
    },
    {
      "cell_type": "code",
      "execution_count": 2,
      "metadata": {
        "id": "qYfuugYXVqPN"
      },
      "outputs": [],
      "source": [
        "import os\n",
        "import random\n",
        "import numpy as np\n",
        "import pandas as pd\n",
        "import tensorflow as tf\n",
        "import tensorflow_hub as hub\n",
        "import matplotlib.pyplot as plt\n",
        "\n",
        "\n",
        "from tensorflow.keras import layers, preprocessing, Sequential, losses\n",
        "from tensorflow.keras.layers import Input, Dense"
      ]
    },
    {
      "cell_type": "code",
      "source": [
        "from google.colab import drive\n",
        "drive.mount('/content/drive')"
      ],
      "metadata": {
        "id": "6jz8_f0ZzzYz"
      },
      "execution_count": null,
      "outputs": []
    },
    {
      "cell_type": "markdown",
      "source": [
        "## **Loading the Image data**"
      ],
      "metadata": {
        "id": "RhTg163q6ihu"
      }
    },
    {
      "cell_type": "code",
      "source": [
        "from tensorflow.keras.preprocessing.image import ImageDataGenerator\n",
        "\n",
        "# train data\n",
        "path = '/content/drive/MyDrive/real_and_fake_face/'\n",
        "\n",
        "image_gen = ImageDataGenerator(validation_split=.2)\n",
        "\n",
        "train_data = image_gen.flow_from_directory(directory=path, \n",
        "                                          target_size=(256,256),\n",
        "                                          class_mode='binary', \n",
        "                                          subset = 'training',\n",
        "                                          seed=42,\n",
        "                                          batch_size=32)\n",
        "\n",
        "test_data = image_gen.flow_from_directory(directory=path,\n",
        "                                         class_mode='binary',\n",
        "                                         target_size=(256,256),\n",
        "                                         subset='validation',\n",
        "                                         seed=42,\n",
        "                                         batch_size=32)"
      ],
      "metadata": {
        "colab": {
          "base_uri": "https://localhost:8080/"
        },
        "id": "uIkJYVeC6hnx",
        "outputId": "f840a28b-30f9-4231-b5af-d29e164a674b"
      },
      "execution_count": 3,
      "outputs": [
        {
          "output_type": "stream",
          "name": "stdout",
          "text": [
            "Found 1686 images belonging to 2 classes.\n",
            "Found 421 images belonging to 2 classes.\n"
          ]
        }
      ]
    },
    {
      "cell_type": "code",
      "source": [
        "# check out the class names in our dataset\n",
        "image_classes = list(train_data.class_indices.keys())\n",
        "image_classes"
      ],
      "metadata": {
        "colab": {
          "base_uri": "https://localhost:8080/"
        },
        "id": "nP2UGvkPwxjm",
        "outputId": "490ec0a6-c32f-4055-deef-5e9a7bed3fe6"
      },
      "execution_count": 4,
      "outputs": [
        {
          "output_type": "execute_result",
          "data": {
            "text/plain": [
              "['face', 'not_face']"
            ]
          },
          "metadata": {},
          "execution_count": 4
        }
      ]
    },
    {
      "cell_type": "markdown",
      "source": [
        "## **Data Augumentation**\n",
        "\n",
        "We will be using Keras Sequential model api to build a data augmentation model as a layer to feed to our neural network (Model).\n",
        "\n"
      ],
      "metadata": {
        "id": "h5p8KUXZxwJZ"
      }
    },
    {
      "cell_type": "code",
      "source": [
        "data_augmentation = Sequential([\n",
        "                                layers.RandomFlip('horizontal_and_vertical'),\n",
        "                                layers.RandomZoom(0.2),\n",
        "                                # layers.RandomCrop(0.2, 0.2),\n",
        "                                layers.RandomRotation(0.2)\n",
        "])"
      ],
      "metadata": {
        "id": "iM3Z8tGSxvpy"
      },
      "execution_count": 5,
      "outputs": []
    },
    {
      "cell_type": "markdown",
      "source": [
        "## **Transfer Learning Fine Tuning**\n",
        "Adjusting the pretrained model weights"
      ],
      "metadata": {
        "id": "gEv9OZ5X29z9"
      }
    },
    {
      "cell_type": "code",
      "source": [
        "#  Let's use functional Api Modelling to create our model this time\n",
        "\n",
        "# create our base model\n",
        "base_model = tf.keras.applications.EfficientNetB0(include_top=False)\n",
        "\n",
        "# create our input layer\n",
        "inputs = tf.keras.layers.Input(shape=(228,228,3))\n",
        "\n",
        "# freeze the model weights\n",
        "base_model.trainable = False\n",
        "\n",
        "# Add our data Augmentation layer\n",
        "x = data_augmentation(inputs)\n",
        "\n",
        "# Normalize if model is Resnet50v2\n",
        "# x = tf.keras.layers.experimental.preprocessing.Rescale(1./255)(inputs)\n",
        "\n",
        "# otherwise:\n",
        "\n",
        "x = base_model(inputs, training=False)\n",
        "print(x.shape)\n",
        "\n",
        "# AveragePool (Aggregrate all the most important feature information, reduce number of computations)\n",
        "\n",
        "x = tf.keras.layers.GlobalAveragePooling2D(name='GlobalAveragePooling')(x)\n",
        "\n",
        "# Create teh output layer\n",
        "\n",
        "outputs = Dense(1, activation='sigmoid')(x)\n",
        "\n",
        "# Model\n",
        "functional_api_model = tf.keras.Model(inputs, outputs)\n",
        "\n",
        "functional_api_model.summary()"
      ],
      "metadata": {
        "colab": {
          "base_uri": "https://localhost:8080/"
        },
        "id": "4ba7QJjq24xv",
        "outputId": "4a71b95e-9d9e-499b-b067-7835005277fc"
      },
      "execution_count": 7,
      "outputs": [
        {
          "output_type": "stream",
          "name": "stdout",
          "text": [
            "(None, 7, 7, 1280)\n",
            "Model: \"model_1\"\n",
            "_________________________________________________________________\n",
            " Layer (type)                Output Shape              Param #   \n",
            "=================================================================\n",
            " input_4 (InputLayer)        [(None, 228, 228, 3)]     0         \n",
            "                                                                 \n",
            " efficientnetb0 (Functional)  (None, None, None, 1280)  4049571  \n",
            "                                                                 \n",
            " GlobalAveragePooling (Globa  (None, 1280)             0         \n",
            " lAveragePooling2D)                                              \n",
            "                                                                 \n",
            " dense_1 (Dense)             (None, 1)                 1281      \n",
            "                                                                 \n",
            "=================================================================\n",
            "Total params: 4,050,852\n",
            "Trainable params: 1,281\n",
            "Non-trainable params: 4,049,571\n",
            "_________________________________________________________________\n"
          ]
        }
      ]
    },
    {
      "cell_type": "markdown",
      "source": [
        "## **Initialize a callback**\n"
      ],
      "metadata": {
        "id": "Di3uxfcl-Xec"
      }
    },
    {
      "cell_type": "code",
      "source": [
        "import datetime\n",
        "time_stamp = datetime.datetime.now().strftime('%Y_%m_%d_%H%M%S')\n",
        "\n",
        "def learning_rate_scheduler():\n",
        "  \"\"\"\n",
        "  A learning rate callback\n",
        "  \"\"\"\n",
        "  \n",
        "  lr = tf.keras.callbacks.LearningRateScheduler(lambda epochs: 3e-1*10 ** (epochs/20))\n",
        "  return lr\n",
        "  \n",
        "def model_checkpoint_callback(experiment_name):\n",
        "  checkpoint_path = 'Checkpoint/'+time_stamp+'_'+experiment_name.replace(' ','_').lower()\n",
        "  checkpoint_callback = tf.keras.callbacks.ModelCheckpoint(filepath=checkpoint_path,\n",
        "                                                           verbose=1,\n",
        "                                                           save_best_weights_only=True)\n",
        "  print('ModelCheckpoint callback saved to: ', checkpoint_path)\n",
        "  return checkpoint_callback\n",
        "\n",
        "def tensorboard_callback(log_dir, experiment_name):\n",
        "  directory = log_dir +'/' + experiment_name + '/'+ time_stamp+'_'+experiment_name.replace(' ','_').lower()\n",
        "\n",
        "  tensorboard_callback = tf.keras.callbacks.TensorBoard(log_dir=directory)\n",
        "  print('Tensorboard callback saved to:', directory)\n",
        "  return tensorboard_callback"
      ],
      "metadata": {
        "id": "OlAxIk-n-cTg"
      },
      "execution_count": 10,
      "outputs": []
    },
    {
      "cell_type": "markdown",
      "source": [
        "## **Compile and fit our model**"
      ],
      "metadata": {
        "id": "yFJyk7yg1U_z"
      }
    },
    {
      "cell_type": "code",
      "source": [
        "!pip install wandb"
      ],
      "metadata": {
        "colab": {
          "base_uri": "https://localhost:8080/"
        },
        "id": "iG_ZD1XWDSvK",
        "outputId": "b98b505a-13a5-4cf7-e6d7-0bdc96b3dec3"
      },
      "execution_count": 14,
      "outputs": [
        {
          "output_type": "stream",
          "name": "stdout",
          "text": [
            "Collecting wandb\n",
            "  Downloading wandb-0.12.10-py2.py3-none-any.whl (1.7 MB)\n",
            "\u001b[?25l\r\u001b[K     |▏                               | 10 kB 18.7 MB/s eta 0:00:01\r\u001b[K     |▍                               | 20 kB 19.4 MB/s eta 0:00:01\r\u001b[K     |▋                               | 30 kB 22.8 MB/s eta 0:00:01\r\u001b[K     |▊                               | 40 kB 20.8 MB/s eta 0:00:01\r\u001b[K     |█                               | 51 kB 15.9 MB/s eta 0:00:01\r\u001b[K     |█▏                              | 61 kB 14.6 MB/s eta 0:00:01\r\u001b[K     |█▍                              | 71 kB 11.5 MB/s eta 0:00:01\r\u001b[K     |█▌                              | 81 kB 12.6 MB/s eta 0:00:01\r\u001b[K     |█▊                              | 92 kB 13.8 MB/s eta 0:00:01\r\u001b[K     |██                              | 102 kB 12.7 MB/s eta 0:00:01\r\u001b[K     |██                              | 112 kB 12.7 MB/s eta 0:00:01\r\u001b[K     |██▎                             | 122 kB 12.7 MB/s eta 0:00:01\r\u001b[K     |██▌                             | 133 kB 12.7 MB/s eta 0:00:01\r\u001b[K     |██▊                             | 143 kB 12.7 MB/s eta 0:00:01\r\u001b[K     |██▉                             | 153 kB 12.7 MB/s eta 0:00:01\r\u001b[K     |███                             | 163 kB 12.7 MB/s eta 0:00:01\r\u001b[K     |███▎                            | 174 kB 12.7 MB/s eta 0:00:01\r\u001b[K     |███▍                            | 184 kB 12.7 MB/s eta 0:00:01\r\u001b[K     |███▋                            | 194 kB 12.7 MB/s eta 0:00:01\r\u001b[K     |███▉                            | 204 kB 12.7 MB/s eta 0:00:01\r\u001b[K     |████                            | 215 kB 12.7 MB/s eta 0:00:01\r\u001b[K     |████▏                           | 225 kB 12.7 MB/s eta 0:00:01\r\u001b[K     |████▍                           | 235 kB 12.7 MB/s eta 0:00:01\r\u001b[K     |████▋                           | 245 kB 12.7 MB/s eta 0:00:01\r\u001b[K     |████▊                           | 256 kB 12.7 MB/s eta 0:00:01\r\u001b[K     |█████                           | 266 kB 12.7 MB/s eta 0:00:01\r\u001b[K     |█████▏                          | 276 kB 12.7 MB/s eta 0:00:01\r\u001b[K     |█████▍                          | 286 kB 12.7 MB/s eta 0:00:01\r\u001b[K     |█████▌                          | 296 kB 12.7 MB/s eta 0:00:01\r\u001b[K     |█████▊                          | 307 kB 12.7 MB/s eta 0:00:01\r\u001b[K     |██████                          | 317 kB 12.7 MB/s eta 0:00:01\r\u001b[K     |██████                          | 327 kB 12.7 MB/s eta 0:00:01\r\u001b[K     |██████▎                         | 337 kB 12.7 MB/s eta 0:00:01\r\u001b[K     |██████▌                         | 348 kB 12.7 MB/s eta 0:00:01\r\u001b[K     |██████▊                         | 358 kB 12.7 MB/s eta 0:00:01\r\u001b[K     |██████▉                         | 368 kB 12.7 MB/s eta 0:00:01\r\u001b[K     |███████                         | 378 kB 12.7 MB/s eta 0:00:01\r\u001b[K     |███████▎                        | 389 kB 12.7 MB/s eta 0:00:01\r\u001b[K     |███████▍                        | 399 kB 12.7 MB/s eta 0:00:01\r\u001b[K     |███████▋                        | 409 kB 12.7 MB/s eta 0:00:01\r\u001b[K     |███████▉                        | 419 kB 12.7 MB/s eta 0:00:01\r\u001b[K     |████████                        | 430 kB 12.7 MB/s eta 0:00:01\r\u001b[K     |████████▏                       | 440 kB 12.7 MB/s eta 0:00:01\r\u001b[K     |████████▍                       | 450 kB 12.7 MB/s eta 0:00:01\r\u001b[K     |████████▋                       | 460 kB 12.7 MB/s eta 0:00:01\r\u001b[K     |████████▊                       | 471 kB 12.7 MB/s eta 0:00:01\r\u001b[K     |█████████                       | 481 kB 12.7 MB/s eta 0:00:01\r\u001b[K     |█████████▏                      | 491 kB 12.7 MB/s eta 0:00:01\r\u001b[K     |█████████▍                      | 501 kB 12.7 MB/s eta 0:00:01\r\u001b[K     |█████████▌                      | 512 kB 12.7 MB/s eta 0:00:01\r\u001b[K     |█████████▊                      | 522 kB 12.7 MB/s eta 0:00:01\r\u001b[K     |██████████                      | 532 kB 12.7 MB/s eta 0:00:01\r\u001b[K     |██████████                      | 542 kB 12.7 MB/s eta 0:00:01\r\u001b[K     |██████████▎                     | 552 kB 12.7 MB/s eta 0:00:01\r\u001b[K     |██████████▌                     | 563 kB 12.7 MB/s eta 0:00:01\r\u001b[K     |██████████▊                     | 573 kB 12.7 MB/s eta 0:00:01\r\u001b[K     |██████████▉                     | 583 kB 12.7 MB/s eta 0:00:01\r\u001b[K     |███████████                     | 593 kB 12.7 MB/s eta 0:00:01\r\u001b[K     |███████████▎                    | 604 kB 12.7 MB/s eta 0:00:01\r\u001b[K     |███████████▍                    | 614 kB 12.7 MB/s eta 0:00:01\r\u001b[K     |███████████▋                    | 624 kB 12.7 MB/s eta 0:00:01\r\u001b[K     |███████████▉                    | 634 kB 12.7 MB/s eta 0:00:01\r\u001b[K     |████████████                    | 645 kB 12.7 MB/s eta 0:00:01\r\u001b[K     |████████████▏                   | 655 kB 12.7 MB/s eta 0:00:01\r\u001b[K     |████████████▍                   | 665 kB 12.7 MB/s eta 0:00:01\r\u001b[K     |████████████▋                   | 675 kB 12.7 MB/s eta 0:00:01\r\u001b[K     |████████████▊                   | 686 kB 12.7 MB/s eta 0:00:01\r\u001b[K     |█████████████                   | 696 kB 12.7 MB/s eta 0:00:01\r\u001b[K     |█████████████▏                  | 706 kB 12.7 MB/s eta 0:00:01\r\u001b[K     |█████████████▍                  | 716 kB 12.7 MB/s eta 0:00:01\r\u001b[K     |█████████████▌                  | 727 kB 12.7 MB/s eta 0:00:01\r\u001b[K     |█████████████▊                  | 737 kB 12.7 MB/s eta 0:00:01\r\u001b[K     |██████████████                  | 747 kB 12.7 MB/s eta 0:00:01\r\u001b[K     |██████████████                  | 757 kB 12.7 MB/s eta 0:00:01\r\u001b[K     |██████████████▎                 | 768 kB 12.7 MB/s eta 0:00:01\r\u001b[K     |██████████████▌                 | 778 kB 12.7 MB/s eta 0:00:01\r\u001b[K     |██████████████▊                 | 788 kB 12.7 MB/s eta 0:00:01\r\u001b[K     |██████████████▉                 | 798 kB 12.7 MB/s eta 0:00:01\r\u001b[K     |███████████████                 | 808 kB 12.7 MB/s eta 0:00:01\r\u001b[K     |███████████████▎                | 819 kB 12.7 MB/s eta 0:00:01\r\u001b[K     |███████████████▍                | 829 kB 12.7 MB/s eta 0:00:01\r\u001b[K     |███████████████▋                | 839 kB 12.7 MB/s eta 0:00:01\r\u001b[K     |███████████████▉                | 849 kB 12.7 MB/s eta 0:00:01\r\u001b[K     |████████████████                | 860 kB 12.7 MB/s eta 0:00:01\r\u001b[K     |████████████████▏               | 870 kB 12.7 MB/s eta 0:00:01\r\u001b[K     |████████████████▍               | 880 kB 12.7 MB/s eta 0:00:01\r\u001b[K     |████████████████▋               | 890 kB 12.7 MB/s eta 0:00:01\r\u001b[K     |████████████████▊               | 901 kB 12.7 MB/s eta 0:00:01\r\u001b[K     |█████████████████               | 911 kB 12.7 MB/s eta 0:00:01\r\u001b[K     |█████████████████▏              | 921 kB 12.7 MB/s eta 0:00:01\r\u001b[K     |█████████████████▍              | 931 kB 12.7 MB/s eta 0:00:01\r\u001b[K     |█████████████████▌              | 942 kB 12.7 MB/s eta 0:00:01\r\u001b[K     |█████████████████▊              | 952 kB 12.7 MB/s eta 0:00:01\r\u001b[K     |██████████████████              | 962 kB 12.7 MB/s eta 0:00:01\r\u001b[K     |██████████████████              | 972 kB 12.7 MB/s eta 0:00:01\r\u001b[K     |██████████████████▎             | 983 kB 12.7 MB/s eta 0:00:01\r\u001b[K     |██████████████████▌             | 993 kB 12.7 MB/s eta 0:00:01\r\u001b[K     |██████████████████▊             | 1.0 MB 12.7 MB/s eta 0:00:01\r\u001b[K     |██████████████████▉             | 1.0 MB 12.7 MB/s eta 0:00:01\r\u001b[K     |███████████████████             | 1.0 MB 12.7 MB/s eta 0:00:01\r\u001b[K     |███████████████████▎            | 1.0 MB 12.7 MB/s eta 0:00:01\r\u001b[K     |███████████████████▍            | 1.0 MB 12.7 MB/s eta 0:00:01\r\u001b[K     |███████████████████▋            | 1.1 MB 12.7 MB/s eta 0:00:01\r\u001b[K     |███████████████████▉            | 1.1 MB 12.7 MB/s eta 0:00:01\r\u001b[K     |████████████████████            | 1.1 MB 12.7 MB/s eta 0:00:01\r\u001b[K     |████████████████████▏           | 1.1 MB 12.7 MB/s eta 0:00:01\r\u001b[K     |████████████████████▍           | 1.1 MB 12.7 MB/s eta 0:00:01\r\u001b[K     |████████████████████▋           | 1.1 MB 12.7 MB/s eta 0:00:01\r\u001b[K     |████████████████████▊           | 1.1 MB 12.7 MB/s eta 0:00:01\r\u001b[K     |█████████████████████           | 1.1 MB 12.7 MB/s eta 0:00:01\r\u001b[K     |█████████████████████▏          | 1.1 MB 12.7 MB/s eta 0:00:01\r\u001b[K     |█████████████████████▍          | 1.1 MB 12.7 MB/s eta 0:00:01\r\u001b[K     |█████████████████████▌          | 1.2 MB 12.7 MB/s eta 0:00:01\r\u001b[K     |█████████████████████▊          | 1.2 MB 12.7 MB/s eta 0:00:01\r\u001b[K     |██████████████████████          | 1.2 MB 12.7 MB/s eta 0:00:01\r\u001b[K     |██████████████████████          | 1.2 MB 12.7 MB/s eta 0:00:01\r\u001b[K     |██████████████████████▎         | 1.2 MB 12.7 MB/s eta 0:00:01\r\u001b[K     |██████████████████████▌         | 1.2 MB 12.7 MB/s eta 0:00:01\r\u001b[K     |██████████████████████▊         | 1.2 MB 12.7 MB/s eta 0:00:01\r\u001b[K     |██████████████████████▉         | 1.2 MB 12.7 MB/s eta 0:00:01\r\u001b[K     |███████████████████████         | 1.2 MB 12.7 MB/s eta 0:00:01\r\u001b[K     |███████████████████████▎        | 1.2 MB 12.7 MB/s eta 0:00:01\r\u001b[K     |███████████████████████▍        | 1.3 MB 12.7 MB/s eta 0:00:01\r\u001b[K     |███████████████████████▋        | 1.3 MB 12.7 MB/s eta 0:00:01\r\u001b[K     |███████████████████████▉        | 1.3 MB 12.7 MB/s eta 0:00:01\r\u001b[K     |████████████████████████        | 1.3 MB 12.7 MB/s eta 0:00:01\r\u001b[K     |████████████████████████▏       | 1.3 MB 12.7 MB/s eta 0:00:01\r\u001b[K     |████████████████████████▍       | 1.3 MB 12.7 MB/s eta 0:00:01\r\u001b[K     |████████████████████████▋       | 1.3 MB 12.7 MB/s eta 0:00:01\r\u001b[K     |████████████████████████▊       | 1.3 MB 12.7 MB/s eta 0:00:01\r\u001b[K     |█████████████████████████       | 1.3 MB 12.7 MB/s eta 0:00:01\r\u001b[K     |█████████████████████████▏      | 1.4 MB 12.7 MB/s eta 0:00:01\r\u001b[K     |█████████████████████████▍      | 1.4 MB 12.7 MB/s eta 0:00:01\r\u001b[K     |█████████████████████████▌      | 1.4 MB 12.7 MB/s eta 0:00:01\r\u001b[K     |█████████████████████████▊      | 1.4 MB 12.7 MB/s eta 0:00:01\r\u001b[K     |██████████████████████████      | 1.4 MB 12.7 MB/s eta 0:00:01\r\u001b[K     |██████████████████████████▏     | 1.4 MB 12.7 MB/s eta 0:00:01\r\u001b[K     |██████████████████████████▎     | 1.4 MB 12.7 MB/s eta 0:00:01\r\u001b[K     |██████████████████████████▌     | 1.4 MB 12.7 MB/s eta 0:00:01\r\u001b[K     |██████████████████████████▊     | 1.4 MB 12.7 MB/s eta 0:00:01\r\u001b[K     |██████████████████████████▉     | 1.4 MB 12.7 MB/s eta 0:00:01\r\u001b[K     |███████████████████████████     | 1.5 MB 12.7 MB/s eta 0:00:01\r\u001b[K     |███████████████████████████▎    | 1.5 MB 12.7 MB/s eta 0:00:01\r\u001b[K     |███████████████████████████▌    | 1.5 MB 12.7 MB/s eta 0:00:01\r\u001b[K     |███████████████████████████▋    | 1.5 MB 12.7 MB/s eta 0:00:01\r\u001b[K     |███████████████████████████▉    | 1.5 MB 12.7 MB/s eta 0:00:01\r\u001b[K     |████████████████████████████    | 1.5 MB 12.7 MB/s eta 0:00:01\r\u001b[K     |████████████████████████████▏   | 1.5 MB 12.7 MB/s eta 0:00:01\r\u001b[K     |████████████████████████████▍   | 1.5 MB 12.7 MB/s eta 0:00:01\r\u001b[K     |████████████████████████████▋   | 1.5 MB 12.7 MB/s eta 0:00:01\r\u001b[K     |████████████████████████████▉   | 1.5 MB 12.7 MB/s eta 0:00:01\r\u001b[K     |█████████████████████████████   | 1.6 MB 12.7 MB/s eta 0:00:01\r\u001b[K     |█████████████████████████████▏  | 1.6 MB 12.7 MB/s eta 0:00:01\r\u001b[K     |█████████████████████████████▍  | 1.6 MB 12.7 MB/s eta 0:00:01\r\u001b[K     |█████████████████████████████▌  | 1.6 MB 12.7 MB/s eta 0:00:01\r\u001b[K     |█████████████████████████████▊  | 1.6 MB 12.7 MB/s eta 0:00:01\r\u001b[K     |██████████████████████████████  | 1.6 MB 12.7 MB/s eta 0:00:01\r\u001b[K     |██████████████████████████████▏ | 1.6 MB 12.7 MB/s eta 0:00:01\r\u001b[K     |██████████████████████████████▎ | 1.6 MB 12.7 MB/s eta 0:00:01\r\u001b[K     |██████████████████████████████▌ | 1.6 MB 12.7 MB/s eta 0:00:01\r\u001b[K     |██████████████████████████████▊ | 1.6 MB 12.7 MB/s eta 0:00:01\r\u001b[K     |██████████████████████████████▉ | 1.7 MB 12.7 MB/s eta 0:00:01\r\u001b[K     |███████████████████████████████ | 1.7 MB 12.7 MB/s eta 0:00:01\r\u001b[K     |███████████████████████████████▎| 1.7 MB 12.7 MB/s eta 0:00:01\r\u001b[K     |███████████████████████████████▌| 1.7 MB 12.7 MB/s eta 0:00:01\r\u001b[K     |███████████████████████████████▋| 1.7 MB 12.7 MB/s eta 0:00:01\r\u001b[K     |███████████████████████████████▉| 1.7 MB 12.7 MB/s eta 0:00:01\r\u001b[K     |████████████████████████████████| 1.7 MB 12.7 MB/s \n",
            "\u001b[?25hCollecting docker-pycreds>=0.4.0\n",
            "  Downloading docker_pycreds-0.4.0-py2.py3-none-any.whl (9.0 kB)\n",
            "Collecting pathtools\n",
            "  Downloading pathtools-0.1.2.tar.gz (11 kB)\n",
            "Requirement already satisfied: promise<3,>=2.0 in /usr/local/lib/python3.7/dist-packages (from wandb) (2.3)\n",
            "Collecting sentry-sdk>=1.0.0\n",
            "  Downloading sentry_sdk-1.5.5-py2.py3-none-any.whl (144 kB)\n",
            "\u001b[K     |████████████████████████████████| 144 kB 47.9 MB/s \n",
            "\u001b[?25hRequirement already satisfied: Click!=8.0.0,>=7.0 in /usr/local/lib/python3.7/dist-packages (from wandb) (7.1.2)\n",
            "Collecting shortuuid>=0.5.0\n",
            "  Downloading shortuuid-1.0.8-py3-none-any.whl (9.5 kB)\n",
            "Collecting GitPython>=1.0.0\n",
            "  Downloading GitPython-3.1.26-py3-none-any.whl (180 kB)\n",
            "\u001b[K     |████████████████████████████████| 180 kB 48.9 MB/s \n",
            "\u001b[?25hRequirement already satisfied: six>=1.13.0 in /usr/local/lib/python3.7/dist-packages (from wandb) (1.15.0)\n",
            "Requirement already satisfied: python-dateutil>=2.6.1 in /usr/local/lib/python3.7/dist-packages (from wandb) (2.8.2)\n",
            "Requirement already satisfied: psutil>=5.0.0 in /usr/local/lib/python3.7/dist-packages (from wandb) (5.4.8)\n",
            "Requirement already satisfied: protobuf>=3.12.0 in /usr/local/lib/python3.7/dist-packages (from wandb) (3.17.3)\n",
            "Collecting yaspin>=1.0.0\n",
            "  Downloading yaspin-2.1.0-py3-none-any.whl (18 kB)\n",
            "Requirement already satisfied: PyYAML in /usr/local/lib/python3.7/dist-packages (from wandb) (3.13)\n",
            "Requirement already satisfied: requests<3,>=2.0.0 in /usr/local/lib/python3.7/dist-packages (from wandb) (2.23.0)\n",
            "Requirement already satisfied: typing-extensions>=3.7.4.3 in /usr/local/lib/python3.7/dist-packages (from GitPython>=1.0.0->wandb) (3.10.0.2)\n",
            "Collecting gitdb<5,>=4.0.1\n",
            "  Downloading gitdb-4.0.9-py3-none-any.whl (63 kB)\n",
            "\u001b[K     |████████████████████████████████| 63 kB 2.0 MB/s \n",
            "\u001b[?25hCollecting smmap<6,>=3.0.1\n",
            "  Downloading smmap-5.0.0-py3-none-any.whl (24 kB)\n",
            "Requirement already satisfied: urllib3!=1.25.0,!=1.25.1,<1.26,>=1.21.1 in /usr/local/lib/python3.7/dist-packages (from requests<3,>=2.0.0->wandb) (1.24.3)\n",
            "Requirement already satisfied: certifi>=2017.4.17 in /usr/local/lib/python3.7/dist-packages (from requests<3,>=2.0.0->wandb) (2021.10.8)\n",
            "Requirement already satisfied: chardet<4,>=3.0.2 in /usr/local/lib/python3.7/dist-packages (from requests<3,>=2.0.0->wandb) (3.0.4)\n",
            "Requirement already satisfied: idna<3,>=2.5 in /usr/local/lib/python3.7/dist-packages (from requests<3,>=2.0.0->wandb) (2.10)\n",
            "Requirement already satisfied: termcolor<2.0.0,>=1.1.0 in /usr/local/lib/python3.7/dist-packages (from yaspin>=1.0.0->wandb) (1.1.0)\n",
            "Building wheels for collected packages: pathtools\n",
            "  Building wheel for pathtools (setup.py) ... \u001b[?25l\u001b[?25hdone\n",
            "  Created wheel for pathtools: filename=pathtools-0.1.2-py3-none-any.whl size=8806 sha256=51069df5e13bb84fb4cf1f609cfb4f36a0f2b1c3c541cec3a859b442308a5871\n",
            "  Stored in directory: /root/.cache/pip/wheels/3e/31/09/fa59cef12cdcfecc627b3d24273699f390e71828921b2cbba2\n",
            "Successfully built pathtools\n",
            "Installing collected packages: smmap, gitdb, yaspin, shortuuid, sentry-sdk, pathtools, GitPython, docker-pycreds, wandb\n",
            "Successfully installed GitPython-3.1.26 docker-pycreds-0.4.0 gitdb-4.0.9 pathtools-0.1.2 sentry-sdk-1.5.5 shortuuid-1.0.8 smmap-5.0.0 wandb-0.12.10 yaspin-2.1.0\n"
          ]
        }
      ]
    },
    {
      "cell_type": "code",
      "source": [
        "# login to wandb\n",
        "! wandb login"
      ],
      "metadata": {
        "colab": {
          "base_uri": "https://localhost:8080/"
        },
        "id": "H4SFL96-DqPb",
        "outputId": "1ee1c398-8a26-4fb6-e847-1c01660668f8"
      },
      "execution_count": 17,
      "outputs": [
        {
          "output_type": "stream",
          "name": "stdout",
          "text": [
            "\u001b[34m\u001b[1mwandb\u001b[0m: You can find your API key in your browser here: https://wandb.ai/authorize\n",
            "\u001b[34m\u001b[1mwandb\u001b[0m: Paste an API key from your profile and hit enter, or press ctrl+c to quit: \n",
            "\u001b[34m\u001b[1mwandb\u001b[0m: Appending key for api.wandb.ai to your netrc file: /root/.netrc\n"
          ]
        }
      ]
    },
    {
      "cell_type": "code",
      "source": [
        "import wandb\n",
        "\n",
        "# Initialize wandb\n",
        "wandb.init(project=\"Face Classification\", entity='acnice')"
      ],
      "metadata": {
        "id": "vdgSZ-L2ECsT"
      },
      "execution_count": null,
      "outputs": []
    },
    {
      "cell_type": "code",
      "source": [
        "wandb.config = {\n",
        "  \"epochs\": 10,\n",
        "  \"batch_size\": 128\n",
        "}"
      ],
      "metadata": {
        "id": "kvzZ_WKqFb1D"
      },
      "execution_count": 20,
      "outputs": []
    },
    {
      "cell_type": "code",
      "source": [
        "functional_api_model.compile(loss=losses.binary_crossentropy,\n",
        "                             optimizer=tf.keras.optimizers.Adam(),\n",
        "                             metrics=['accuracy'])\n",
        "\n",
        "# fit our model\n",
        "history1 = functional_api_model.fit(train_data, epochs=5, \n",
        "                         callbacks=[model_checkpoint_callback('Base Model'),\n",
        "                                    tensorboard_callback('Base Model','Tensor Hub'), wandb], \n",
        "                         validation_data=test_data,\n",
        "                         steps_per_epoch=len(train_data),\n",
        "                          )"
      ],
      "metadata": {
        "colab": {
          "base_uri": "https://localhost:8080/"
        },
        "id": "42Uz2Vd31TtC",
        "outputId": "35086ea7-773a-4971-810c-edb5ae501774"
      },
      "execution_count": 11,
      "outputs": [
        {
          "output_type": "stream",
          "name": "stdout",
          "text": [
            "ModelCheckpoint callback saved to:  Checkpoint/2022_02_16_135714_base_model\n",
            "Tensorboard callback saved to: Base Model/Tensor Hub/2022_02_16_135714_tensor_hub\n",
            "Epoch 1/5\n",
            "53/53 [==============================] - ETA: 0s - loss: 0.2701 - accuracy: 0.9241 \n",
            "Epoch 1: saving model to Checkpoint/2022_02_16_135714_base_model\n",
            "INFO:tensorflow:Assets written to: Checkpoint/2022_02_16_135714_base_model/assets\n",
            "53/53 [==============================] - 990s 18s/step - loss: 0.2701 - accuracy: 0.9241 - val_loss: 0.1701 - val_accuracy: 0.9549\n",
            "Epoch 2/5\n",
            "53/53 [==============================] - ETA: 0s - loss: 0.0603 - accuracy: 0.9988\n",
            "Epoch 2: saving model to Checkpoint/2022_02_16_135714_base_model\n",
            "INFO:tensorflow:Assets written to: Checkpoint/2022_02_16_135714_base_model/assets\n",
            "53/53 [==============================] - 69s 1s/step - loss: 0.0603 - accuracy: 0.9988 - val_loss: 0.1386 - val_accuracy: 0.9477\n",
            "Epoch 3/5\n",
            "53/53 [==============================] - ETA: 0s - loss: 0.0341 - accuracy: 0.9994\n",
            "Epoch 3: saving model to Checkpoint/2022_02_16_135714_base_model\n",
            "INFO:tensorflow:Assets written to: Checkpoint/2022_02_16_135714_base_model/assets\n",
            "53/53 [==============================] - 69s 1s/step - loss: 0.0341 - accuracy: 0.9994 - val_loss: 0.1339 - val_accuracy: 0.9406\n",
            "Epoch 4/5\n",
            "53/53 [==============================] - ETA: 0s - loss: 0.0233 - accuracy: 0.9994\n",
            "Epoch 4: saving model to Checkpoint/2022_02_16_135714_base_model\n",
            "INFO:tensorflow:Assets written to: Checkpoint/2022_02_16_135714_base_model/assets\n",
            "53/53 [==============================] - 69s 1s/step - loss: 0.0233 - accuracy: 0.9994 - val_loss: 0.1338 - val_accuracy: 0.9359\n",
            "Epoch 5/5\n",
            "53/53 [==============================] - ETA: 0s - loss: 0.0175 - accuracy: 0.9994\n",
            "Epoch 5: saving model to Checkpoint/2022_02_16_135714_base_model\n",
            "INFO:tensorflow:Assets written to: Checkpoint/2022_02_16_135714_base_model/assets\n",
            "53/53 [==============================] - 69s 1s/step - loss: 0.0175 - accuracy: 0.9994 - val_loss: 0.1361 - val_accuracy: 0.9359\n"
          ]
        }
      ]
    },
    {
      "cell_type": "code",
      "source": [
        "functional_api_model.evaluate(test_data)"
      ],
      "metadata": {
        "colab": {
          "base_uri": "https://localhost:8080/"
        },
        "id": "bgwxRR8AF8ff",
        "outputId": "7a358649-1bc6-4dc8-f510-ca5e36f84a1f"
      },
      "execution_count": 12,
      "outputs": [
        {
          "output_type": "stream",
          "name": "stdout",
          "text": [
            "14/14 [==============================] - 4s 264ms/step - loss: 0.1361 - accuracy: 0.9359\n"
          ]
        },
        {
          "output_type": "execute_result",
          "data": {
            "text/plain": [
              "[0.1360691785812378, 0.9358670115470886]"
            ]
          },
          "metadata": {},
          "execution_count": 12
        }
      ]
    },
    {
      "cell_type": "code",
      "source": [
        "# save our model\n",
        "functional_api_model.save('FaceClassifier')"
      ],
      "metadata": {
        "colab": {
          "base_uri": "https://localhost:8080/"
        },
        "id": "PfDaNjyvAKkY",
        "outputId": "f3f62b96-067d-4733-e460-ff6349de2e1a"
      },
      "execution_count": 13,
      "outputs": [
        {
          "output_type": "stream",
          "name": "stdout",
          "text": [
            "INFO:tensorflow:Assets written to: FaceClassifier/assets\n"
          ]
        }
      ]
    },
    {
      "cell_type": "markdown",
      "source": [
        "## **Plot Model Curves**"
      ],
      "metadata": {
        "id": "nA0nNLk2M2Bd"
      }
    },
    {
      "cell_type": "code",
      "source": [
        "def plot_lr(history):\n",
        "  \n",
        "  epochs = history.history['loss']\n",
        "  lr = 3e-1*10**(tf.range(len(epochs))/20)\n",
        "  \n",
        "  plt.plot(lr, epochs)\n",
        "  plt.xlabel('Learning Rate')\n",
        "  plt.ylabel('Loss')\n",
        "  plt.title('Learning Rate')"
      ],
      "metadata": {
        "id": "D-ctwoF8M0uV"
      },
      "execution_count": null,
      "outputs": []
    },
    {
      "cell_type": "code",
      "source": [
        ""
      ],
      "metadata": {
        "id": "-fnFTQIVNrTD"
      },
      "execution_count": null,
      "outputs": []
    }
  ]
}